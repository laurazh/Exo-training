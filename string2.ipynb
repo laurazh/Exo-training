{
 "cells": [
  {
   "cell_type": "code",
   "execution_count": 6,
   "metadata": {
    "collapsed": false
   },
   "outputs": [
    {
     "data": {
      "text/plain": [
       "'do'"
      ]
     },
     "execution_count": 6,
     "metadata": {},
     "output_type": "execute_result"
    }
   ],
   "source": [
    "#D verbing\n",
    "\n",
    "def verbing(s):\n",
    "    if len(s)>=3:\n",
    "        if s[-3:]!=\"ing\":\n",
    "            return s+\"ing\"\n",
    "        else:\n",
    "            return s+\"ly\"\n",
    "    else:\n",
    "        return s\n",
    "    \n",
    "verbing('do')   "
   ]
  },
  {
   "cell_type": "code",
   "execution_count": 12,
   "metadata": {
    "collapsed": false
   },
   "outputs": [
    {
     "data": {
      "text/plain": [
       "'This dinner is good!tralala'"
      ]
     },
     "execution_count": 12,
     "metadata": {},
     "output_type": "execute_result"
    }
   ],
   "source": [
    "#E not_bad\n",
    "def not_bad(s):\n",
    "    if s.index(\"not\")>s.index(\"bad\"):\n",
    "        return s\n",
    "    else:\n",
    "        return s[:s.index(\"not\")]+\"good\"+s[s.index(\"bad\")+3:]\n",
    "    \n",
    "not_bad('This dinner is not that bad!tralala')"
   ]
  },
  {
   "cell_type": "code",
   "execution_count": 44,
   "metadata": {
    "collapsed": true
   },
   "outputs": [],
   "source": [
    "#F front_back\n",
    "def front_back0(a,b):\n",
    "    if len(a)%2==0:\n",
    "        if len(b)%2==0:\n",
    "            return a[:int(len(a)/2)]+b[:int(len(b)/2)]+a[int(len(a)/2):]+b[int(len(b)/2):]\n",
    "        else:\n",
    "            return a[:int(len(a)/2)]+b[:int(len(b)/2)+1:]+a[int(len(a)/2):]+b[ int(len(b)/2):]   \n",
    "    else:\n",
    "        if len(b)%2!=0:\n",
    "            return a[:int(len(a)/2)+1]+b[:int(len(b)/2)]+a[int(len(a)/2):]+b[int(len(b)/2):]\n",
    "        else:\n",
    "            return a[:int(len(a)/2)+1]+b[:int(len(b)/2)]+a[int(len(a)/2):]+b[int(len(b)/2):]\n",
    "         \n"
   ]
  },
  {
   "cell_type": "code",
   "execution_count": 45,
   "metadata": {
    "collapsed": false
   },
   "outputs": [],
   "source": [
    "def front_back(a,b):\n",
    "    a_middle=int(len(a)/2)\n",
    "    b_middle=int(len(b)/2)\n",
    "    if len(a) % 2 == 1:  # add 1 if length is odd\n",
    "        a_middle = a_middle + 1\n",
    "    if len(b) % 2 == 1:\n",
    "        b_middle = b_middle + 1  \n",
    "    return a[:a_middle]+b[:b_middle]+a[a_middle:]+b[b_middle:]"
   ]
  },
  {
   "cell_type": "code",
   "execution_count": 46,
   "metadata": {
    "collapsed": false
   },
   "outputs": [
    {
     "data": {
      "text/plain": [
       "'KitDontenut'"
      ]
     },
     "execution_count": 46,
     "metadata": {},
     "output_type": "execute_result"
    }
   ],
   "source": [
    "front_back('Kitten', 'Donut')"
   ]
  },
  {
   "cell_type": "code",
   "execution_count": null,
   "metadata": {
    "collapsed": true
   },
   "outputs": [],
   "source": []
  }
 ],
 "metadata": {
  "anaconda-cloud": {},
  "kernelspec": {
   "display_name": "Python [Root]",
   "language": "python",
   "name": "Python [Root]"
  },
  "language_info": {
   "codemirror_mode": {
    "name": "ipython",
    "version": 3
   },
   "file_extension": ".py",
   "mimetype": "text/x-python",
   "name": "python",
   "nbconvert_exporter": "python",
   "pygments_lexer": "ipython3",
   "version": "3.5.2"
  }
 },
 "nbformat": 4,
 "nbformat_minor": 0
}
