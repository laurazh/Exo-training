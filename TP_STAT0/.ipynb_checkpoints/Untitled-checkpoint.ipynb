{
 "cells": [
  {
   "cell_type": "code",
   "execution_count": null,
   "metadata": {
    "collapsed": true
   },
   "outputs": [],
   "source": [
    "import time\n",
    "import numpy \n",
    "import math\n",
    "import random"
   ]
  },
  {
   "cell_type": "code",
   "execution_count": 14,
   "metadata": {
    "collapsed": false
   },
   "outputs": [],
   "source": [
    "#Q1\n",
    "#Methode1\n",
    "\n",
    "def nextpower(n):\n",
    "    for i in range(n):\n",
    "        if (2**i)>=n:\n",
    "            return i   \n",
    "     "
   ]
  },
  {
   "cell_type": "code",
   "execution_count": null,
   "metadata": {
    "collapsed": true
   },
   "outputs": [],
   "source": [
    "# string.ascii_lowercase donne un mot avec toutes les lettres de l'alphabet\n",
    "\n",
    "def slicing(name):\n",
    "    #name est un string \"jfaj\"\n",
    "    #test1=\"cefilorux\"\n",
    "    #test2=\"vxy\"\n",
    "    \n",
    "    list=sorted(list(name))\n",
    "    test1=list[2]+list[4]+list[5]+list[8]+list[11]+list[14]+list[17]+list[20]+list[23]\n",
    "    tst1bis=list[2:5:2]+list[5:24:3]\n",
    "   \n",
    "    test2=list[21]+list[23]+list[24]\n",
    "    test3=list[-5]+list[-3]+list[-2]\n",
    "    \n",
    "            "
   ]
  },
  {
   "cell_type": "code",
   "execution_count": null,
   "metadata": {
    "collapsed": true
   },
   "outputs": [],
   "source": [
    "import math\n",
    "def round_9 ():\n",
    "    return format(math.pi, '.9f')"
   ]
  },
  {
   "cell_type": "code",
   "execution_count": 15,
   "metadata": {
    "collapsed": true
   },
   "outputs": [],
   "source": [
    "#s=\"HelLo WorLd!!\"\n",
    "\n",
    "#methode1\n",
    "import collections\n",
    "from collections import Counter\n",
    "\n",
    "def occ(s):\n",
    "    l=s.lower().strip()\n",
    "    return Counter(l)\n",
    "\n",
    "#methode2\n",
    "def occ2(s):\n",
    "    d={}\n",
    "    for i in s:\n",
    "        if i in d:\n",
    "            d[i]+=1\n",
    "        else:\n",
    "            d[i]=1\n",
    "    return d"
   ]
  },
  {
   "cell_type": "code",
   "execution_count": 47,
   "metadata": {
    "collapsed": false
   },
   "outputs": [
    {
     "name": "stdout",
     "output_type": "stream",
     "text": [
      "['l', 'v', 'c', 'o', 'd', 'r', 'j', 'u', 'y', 'e', 'p', 'h', 'g', 'q', 'f', 'b', 'm', 'n', 'i', 'a', 'w', 'z', 't', 'k', 's', 'x']\n",
      "lvcodrjuyephgqfbmniawztksx\n"
     ]
    }
   ],
   "source": [
    "import random\n",
    " \n",
    "def codage(name):\n",
    "    new_list= list(name)\n",
    "    random.shuffle(new_list) #random.shuffle ne renvoit rien\n",
    "    #print new_list # donne une liste de random\n",
    "    print ''.join(new_list) # donne un string melange\n",
    "    #return new_random\n",
    "    \n",
    "codage(\"abcdefghijklmnopqrstuvwxyz\")"
   ]
  },
  {
   "cell_type": "code",
   "execution_count": 69,
   "metadata": {
    "collapsed": false
   },
   "outputs": [
    {
     "name": "stdout",
     "output_type": "stream",
     "text": [
      "2\n",
      "1\n"
     ]
    }
   ],
   "source": [
    "#pas bon\n",
    "import time\n",
    "    \n",
    "def calcul(n): \n",
    "    for i in range(1,n):\n",
    "        if i==1:\n",
    "            prev=4/3\n",
    "            prochain=prev*(4*(i**2)/(4*(i**2)-1))\n",
    "        else:\n",
    "            prochain=prev*(4*(i**2)/(4*(i**2)-1))\n",
    "        prev=prochain\n",
    "    print 2*prev\n",
    "    print test1\n",
    "\n",
    "\n",
    "calcul (50)"
   ]
  },
  {
   "cell_type": "code",
   "execution_count": 122,
   "metadata": {
    "collapsed": false
   },
   "outputs": [
    {
     "name": "stdout",
     "output_type": "stream",
     "text": [
      "6.26757498126\n",
      "0.000244140625\n"
     ]
    }
   ],
   "source": [
    "#6\n",
    "start_time = time.time()\n",
    "# your code\n",
    "\n",
    "def produit(n):\n",
    "    prod=2.\n",
    "    for x in range(1,n+1):\n",
    "        prod*=(4. * x ** 2 / (4. * x ** 2. - 1.))\n",
    "    print 2*prod\n",
    "\n",
    "produit(100)\n",
    "\n",
    "print  time.time() - start_time\n"
   ]
  },
  {
   "cell_type": "code",
   "execution_count": 116,
   "metadata": {
    "collapsed": false
   },
   "outputs": [
    {
     "name": "stdout",
     "output_type": "stream",
     "text": [
      "3.13370914594\n",
      "0.000241041183472\n"
     ]
    }
   ],
   "source": [
    "#6 sans boucle avec numpy\n",
    "import numpy as np\n",
    "\n",
    "start_time = time.time()\n",
    "def produit2(n):\n",
    "    x= np.arange(1,n)\n",
    "    total= np.prod(4. * x ** 2 / (4. * x ** 2. - 1.))\n",
    "    print(2*total)\n",
    "    \n",
    "produit2(100)\n",
    "print  time.time() - start_time"
   ]
  },
  {
   "cell_type": "code",
   "execution_count": 119,
   "metadata": {
    "collapsed": false
   },
   "outputs": [
    {
     "name": "stdout",
     "output_type": "stream",
     "text": [
      "3.13378749063\n",
      "0.000144004821777\n"
     ]
    }
   ],
   "source": [
    "def wallis5(n):\n",
    "    \"\"\" Wallis no loop version \"\"\"\n",
    "    sol = np.arange(1, n + 1)\n",
    "    sol = sol ** 2\n",
    "    sol = 4. * sol / (4. * sol - 1.)\n",
    "    return 2 * np.prod(sol)\n",
    "t = time.time()\n",
    "print(wallis5(100))\n",
    "print(time.time() - t)"
   ]
  },
  {
   "cell_type": "code",
   "execution_count": 41,
   "metadata": {
    "collapsed": false
   },
   "outputs": [
    {
     "name": "stdout",
     "output_type": "stream",
     "text": [
      "[0 1 2 3 4]\n",
      "[4 3 2 1 0]\n"
     ]
    }
   ],
   "source": [
    "tmp = numpy.arange(5)\n",
    "print tmp\n",
    "numpy.random.shuffle(tmp)\n",
    "print tmp"
   ]
  },
  {
   "cell_type": "code",
   "execution_count": 104,
   "metadata": {
    "collapsed": false,
    "scrolled": true
   },
   "outputs": [
    {
     "name": "stdout",
     "output_type": "stream",
     "text": [
      "None\n",
      "[12, 4, 8, 3, 8, 9, 47, 52, 56, 852, 545]\n",
      "[52, 56, 852, 545]\n"
     ]
    }
   ],
   "source": [
    "import pandas as pd\n",
    "import numpy as np\n",
    "\n",
    "def quicksort(array):\n",
    "    if len(array)<=1:\n",
    "        return array\n",
    "    else:\n",
    "        pivot = array[len(array)-1]    \n",
    "        less=[]\n",
    "        greater=[]\n",
    "    for x in array:\n",
    "        if x<=pivot:\n",
    "            less.append(x)\n",
    "        else:\n",
    "            greater.append(x)\n",
    "    \n",
    "    print less.extend(greater)\n",
    "    print less  \n",
    " \n",
    "\n",
    "l=[52,12,56,4,8,852,3,8,9,545,47]\n",
    "quicksort(l)\n"
   ]
  },
  {
   "cell_type": "code",
   "execution_count": 12,
   "metadata": {
    "collapsed": false
   },
   "outputs": [
    {
     "name": "stdout",
     "output_type": "stream",
     "text": [
      "[[ 0 -1  0 -1 -1  0]\n",
      " [ 0 -1  0 -1 -1  0]\n",
      " [ 0  0  0  0 -1 -1]\n",
      " [ 0  0 -1  0  0  0]\n",
      " [ 0 -1  0 -1  0  0]]\n",
      "[[ 0  0  0  0  0  0]\n",
      " [ 0  0  0  0  0  0]\n",
      " [ 0  1  0  1  0 -1]\n",
      " [ 0  1 -1  1  1  0]\n",
      " [ 0  0  0  0  1  0]]\n"
     ]
    }
   ],
   "source": [
    "#8\n",
    "import numpy as np\n",
    "a=np.random.randint(-1, 1, (5, 6))\n",
    "b=a- a[:1] \n",
    "#i=np.arange(3)\n",
    "print(a)\n",
    "print(b) # une colonne sur 2 mais concatene\n"
   ]
  },
  {
   "cell_type": "code",
   "execution_count": null,
   "metadata": {
    "collapsed": true
   },
   "outputs": [],
   "source": []
  }
 ],
 "metadata": {
  "anaconda-cloud": {},
  "kernelspec": {
   "display_name": "Python [Root]",
   "language": "python",
   "name": "Python [Root]"
  },
  "language_info": {
   "codemirror_mode": {
    "name": "ipython",
    "version": 3
   },
   "file_extension": ".py",
   "mimetype": "text/x-python",
   "name": "python",
   "nbconvert_exporter": "python",
   "pygments_lexer": "ipython3",
   "version": "3.5.2"
  }
 },
 "nbformat": 4,
 "nbformat_minor": 0
}
